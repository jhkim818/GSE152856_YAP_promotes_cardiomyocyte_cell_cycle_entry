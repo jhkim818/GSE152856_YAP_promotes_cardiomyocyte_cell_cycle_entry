{
 "cells": [
  {
   "cell_type": "code",
   "execution_count": 1,
   "id": "e9d8261f",
   "metadata": {},
   "outputs": [
    {
     "name": "stderr",
     "output_type": "stream",
     "text": [
      "Loading required package: ggplot2\n",
      "\n",
      "Loading required package: ggrepel\n",
      "\n",
      "Loading required package: SeuratObject\n",
      "\n",
      "Loading required package: sp\n",
      "\n",
      "\n",
      "Attaching package: ‘SeuratObject’\n",
      "\n",
      "\n",
      "The following objects are masked from ‘package:base’:\n",
      "\n",
      "    %||%, intersect, t\n",
      "\n",
      "\n"
     ]
    },
    {
     "name": "stdout",
     "output_type": "stream",
     "text": [
      "Error in .make_numeric_version(x, strict, .standard_regexps()$valid_numeric_version) : \n",
      "  invalid non-character version specification 'x' (type: double)\n"
     ]
    },
    {
     "name": "stderr",
     "output_type": "stream",
     "text": [
      "\n",
      "Attaching package: ‘Seurat’\n",
      "\n",
      "\n",
      "The following object is masked from ‘package:base’:\n",
      "\n",
      "    %||%\n",
      "\n",
      "\n",
      "\n",
      "Attaching package: ‘dplyr’\n",
      "\n",
      "\n",
      "The following objects are masked from ‘package:stats’:\n",
      "\n",
      "    filter, lag\n",
      "\n",
      "\n",
      "The following objects are masked from ‘package:base’:\n",
      "\n",
      "    intersect, setdiff, setequal, union\n",
      "\n",
      "\n"
     ]
    }
   ],
   "source": [
    "library(EnhancedVolcano)\n",
    "library(Seurat)\n",
    "library(ggplot2)\n",
    "library(DoubletFinder)\n",
    "library(dplyr)\n",
    "library(stringr)\n",
    "library(RColorBrewer)"
   ]
  },
  {
   "cell_type": "code",
   "execution_count": null,
   "id": "d077a533",
   "metadata": {},
   "outputs": [],
   "source": [
    "Young.data <- read.csv(\"YAP5SA_DropSeq.raw.data.csv\", sep=\",\")\n",
    "Youngmeta.data <- read.csv(\"YAP5SA_DropSeq.meta.data.csv\", sep=\",\")\n",
    "CM_P1_ShamD1 <- Read10X(\"OlsenCMOnly/GSM3747857_P1ShamD1/\")\n",
    "CM_P1_ShamD3 <- Read10X(\"OlsenCMOnly/GSM3747859_P1ShamD3/\")\n",
    "CM_P8_ShamD1 <- Read10X(\"OlsenCMOnly/GSM3747861_P8ShamD1/\")\n",
    "CM_P8_ShamD3 <- Read10X(\"OlsenCMOnly/GSM3747863_P8ShamD3/\")"
   ]
  },
  {
   "cell_type": "code",
   "execution_count": null,
   "id": "b57cd1ea",
   "metadata": {},
   "outputs": [],
   "source": [
    "Young <- CreateSeuratObject(Young.data, meta.data = Youngmeta.data, min.cells = 10, min.features = 500) \n",
    "Young  <- PercentageFeatureSet(Young, pattern=\"mt-\", col.name=\"percent.mt\")\n",
    "Data <- ls(pattern = \"_P\")\n",
    "DataList <- mget(c(ls(pattern = \"_P\")))\n",
    "\n",
    "for (i in Data)\n",
    "{\n",
    "  x <- CreateSeuratObject(DataList[[i]], min.cells = 10, min.features = 200)\n",
    "  x <- PercentageFeatureSet(x, pattern=\"mt\", col.name=\"percent.mt\")\n",
    "  x$orig.ident <- i\n",
    "  assign(i,x)\n",
    "  rm(x)\n",
    "}\n"
   ]
  },
  {
   "cell_type": "code",
   "execution_count": null,
   "id": "577e38ad",
   "metadata": {},
   "outputs": [],
   "source": [
    "Data <- c(ls(pattern = \"_P\"), ls(pattern = \"Young\"))\n",
    "DataList <- mget(c(ls(pattern = \"_P\"), ls(pattern = \"Young\")))\n",
    "\n",
    "for (i in Data)\n",
    "{\n",
    "  x <- SCTransform(DataList[[i]], vars.to.regress = c(\"percent.mt\",\"nFeature_RNA\"), verbose = FALSE)\n",
    "  x$orig.ident <- i\n",
    "  assign(i,x)\n",
    "  print(i)\n",
    "  rm(x)\n",
    "}"
   ]
  },
  {
   "cell_type": "code",
   "execution_count": null,
   "id": "4b9ed4e3",
   "metadata": {},
   "outputs": [],
   "source": [
    "CM_P1_ShamD1$Experiment <- \"P1ShamD1\"\n",
    "CM_P1_ShamD3$Experiment <- \"P1ShamD3\"\n",
    "CM_P8_ShamD1$Experiment <- \"P8ShamD1\"\n",
    "CM_P8_ShamD3$Experiment <- \"P8ShamD3\""
   ]
  },
  {
   "cell_type": "code",
   "execution_count": null,
   "id": "220e0987",
   "metadata": {},
   "outputs": [],
   "source": [
    "Data <- c(ls(pattern = \"_P\"), ls(pattern = \"Young\"))\n",
    "DataList <- mget(c(ls(pattern = \"_P\"), ls(pattern = \"Young\")))"
   ]
  },
  {
   "cell_type": "code",
   "execution_count": null,
   "id": "b89ecdfd",
   "metadata": {},
   "outputs": [],
   "source": [
    "features <- SelectIntegrationFeatures(object.list = DataList, nfeatures = 15000)\n",
    "List <- PrepSCTIntegration(object.list=DataList,anchor.features=features, verbose=FALSE)"
   ]
  },
  {
   "cell_type": "code",
   "execution_count": null,
   "id": "3f5e753e",
   "metadata": {},
   "outputs": [],
   "source": [
    "Combined.anchors <- FindIntegrationAnchors(List, dims = 1:40, normalization.method = \"SCT\",anchor.features = features, verbose=FALSE)\n",
    "Combined.Integrated <- IntegrateData(Combined.anchors, normalization.method = \"SCT\", dims=1:40)"
   ]
  },
  {
   "cell_type": "code",
   "execution_count": null,
   "id": "31d8516a",
   "metadata": {},
   "outputs": [],
   "source": [
    "Combined.Integrated <- RunPCA(Combined.Integrated, npcs=40, verbose=FALSE)\n",
    "\n",
    "Combined.Integrated <- RunUMAP(Combined.Integrated, reduction=\"pca\", dims=1:20)\n",
    "Combined.Integrated <- FindNeighbors(Combined.Integrated, reduction=\"pca\", dims=1:20)\n",
    "Combined.Integrated <- FindClusters(Combined.Integrated, resolution=.1)"
   ]
  },
  {
   "cell_type": "code",
   "execution_count": null,
   "id": "077e3220",
   "metadata": {},
   "outputs": [],
   "source": [
    "DimPlot(Combined.Integrated, \n",
    "        reduction=\"umap\", \n",
    "        label=TRUE, \n",
    "        group.by=\"integrated_snn_res.0.1\", \n",
    "        label.size = 3,\n",
    "        cols=brewer.pal(3,\"Set2\"))"
   ]
  },
  {
   "cell_type": "code",
   "execution_count": null,
   "id": "7501f4f1",
   "metadata": {},
   "outputs": [],
   "source": [
    "CM <- subset(Combined.Integrated, idents=c(\"0\",\"3\"))"
   ]
  },
  {
   "cell_type": "code",
   "execution_count": null,
   "id": "6e215caa",
   "metadata": {},
   "outputs": [],
   "source": [
    "Idents(CM) <- CM$Experiment\n",
    "CMControl <- subset(CM, idents=c(\"Ctrl\",\"P1ShamD1\"))"
   ]
  },
  {
   "cell_type": "code",
   "execution_count": null,
   "id": "b73fef64",
   "metadata": {},
   "outputs": [],
   "source": [
    "DefaultAssay(CMControl) <- 'integrated'\n",
    "CMControl <- RunPCA(CMControl, npcs=40, verbose=FALSE)\n",
    "CMControl <- RunUMAP(CMControl, reduction=\"pca\", dims=1:5, min.dist = 1)\n",
    "CMControl <- FindNeighbors(CMControl, reduction=\"pca\", dims=1:5)\n",
    "DefaultAssay(CMControl) <- 'integrated'\n",
    "CMControl <- FindClusters(CMControl, resolution=.1)"
   ]
  },
  {
   "cell_type": "code",
   "execution_count": null,
   "id": "0262c2f6",
   "metadata": {},
   "outputs": [],
   "source": [
    "Idents(CMControl) <- CMControl$Experiment\n",
    "DefaultAssay(CMControl) <- \"SCT\"\n",
    "CMControlDEG <- FindMarkers(CMControl, ident.1=\"Ctrl\", ident.2=\"P1ShamD1\")\n",
    "CMControlDEG <- CMControlDEG[!grepl(\"mt-\", rownames(CMControlDEG)),]"
   ]
  },
  {
   "cell_type": "code",
   "execution_count": null,
   "id": "c56129fb",
   "metadata": {},
   "outputs": [],
   "source": [
    "CMControlDEGDown <- subset(CMControlDEG, subset=avg_log2FC < 0)\n",
    "CMControlDEGUp <- subset(CMControlDEG, subset=avg_log2FC > 0)\n",
    "CMControlDEGDown <- CMControlDEGDown[order(CMControlDEGDown$avg_log2FC),]\n",
    "CMControlDEGUp <- CMControlDEGUp[order(CMControlDEGUp$avg_log2FC),]"
   ]
  },
  {
   "cell_type": "code",
   "execution_count": null,
   "id": "e9ee3da8",
   "metadata": {},
   "outputs": [],
   "source": [
    "DefaultAssay(CMControl) <- \"SCT\"\n",
    "Idents(CMYap5SA) <- CMYap5SA$Experiment\n",
    "CMYap5SA_Avg_Exp <- AverageExpression(CMYap5SA, assay='SCT',slot='data',group.by=\"Experiment\")"
   ]
  },
  {
   "cell_type": "code",
   "execution_count": null,
   "id": "0c9e5e27",
   "metadata": {},
   "outputs": [],
   "source": [
    "CMYap5SA_Avg_Exp_Down <- data.frame(CMYap5SA_Avg_Exp$SCT[rownames(CMControlDEGDown),])\n",
    "CMYap5SA_Avg_Exp_Up <- data.frame(CMYap5SA_Avg_Exp$SCT[rownames(CMControlDEGUp),])"
   ]
  },
  {
   "cell_type": "code",
   "execution_count": null,
   "id": "8a8bd17f",
   "metadata": {},
   "outputs": [],
   "source": [
    "CMYap5SA_Avg_Exp_Down <- CMYap5SA_Avg_Exp_Down[order(CMYap5SA_Avg_Exp_Down$YAP5SA,decreasing=TRUE),]\n",
    "CMYap5SA_Avg_Exp_Up <- CMYap5SA_Avg_Exp_Up[order(CMYap5SA_Avg_Exp_Up$YAP5SA,decreasing=TRUE),]"
   ]
  },
  {
   "cell_type": "code",
   "execution_count": null,
   "id": "baedc770",
   "metadata": {},
   "outputs": [],
   "source": [
    "CMYap5SA_Avg_Exp_UpTop30 <- head(CMYap5SA_Avg_Exp_Up,n = 30)\n",
    "DotPlot(CMYap5SA, features = rownames(CMYap5SA_Avg_Exp_UpTop30), cols = c(\"lightgrey\",\"red\"),\n",
    "        group.by=\"Experiment\") + RotatedAxis() + theme(legend.position=\"bottom\")"
   ]
  },
  {
   "cell_type": "code",
   "execution_count": null,
   "id": "0e42ec4f",
   "metadata": {},
   "outputs": [],
   "source": [
    "CMYap5SA_Avg_Exp_DownTop30 <- head(CMYap5SA_Avg_Exp_Down,n = 30)\n",
    "DotPlot(CMYap5SA, features = rownames(CMYap5SA_Avg_Exp_DownTop30),, cols = c(\"lightgrey\",\"blue\"), \n",
    "        group.by=\"Experiment\") + RotatedAxis() + theme(legend.position=\"bottom\")"
   ]
  }
 ],
 "metadata": {
  "kernelspec": {
   "display_name": "R",
   "language": "R",
   "name": "ir"
  },
  "language_info": {
   "codemirror_mode": "r",
   "file_extension": ".r",
   "mimetype": "text/x-r-source",
   "name": "R",
   "pygments_lexer": "r",
   "version": "4.4.0"
  }
 },
 "nbformat": 4,
 "nbformat_minor": 5
}
