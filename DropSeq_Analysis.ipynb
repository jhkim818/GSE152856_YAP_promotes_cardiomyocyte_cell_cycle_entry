{
 "cells": [
  {
   "cell_type": "code",
   "execution_count": null,
   "id": "5a42a38f",
   "metadata": {},
   "outputs": [],
   "source": [
    "library(Seurat)\n",
    "library(monocle)\n",
    "library(dplyr)\n",
    "library(RColorBrewer)\n",
    "library(harmony)"
   ]
  },
  {
   "cell_type": "code",
   "execution_count": null,
   "id": "e092ca87",
   "metadata": {},
   "outputs": [],
   "source": [
    "# load in raw data and Meta data from aligned data\n",
    "Young.data <- read.csv(\"YAP5SA_DropSeq.raw.data.csv\", sep=\",\")\n",
    "Youngmeta.data <- read.csv(\"YAP5SA_DropSeq.meta.data.csv\", sep=\",\")"
   ]
  },
  {
   "cell_type": "code",
   "execution_count": null,
   "id": "69f0c5f2",
   "metadata": {},
   "outputs": [],
   "source": [
    "# Create Seurat object, only keeping cells that more than 10 reads and 500 genes\n",
    "Young <- CreateSeuratObject(Young.data, meta.data = Youngmeta.data, min.cells = 10, min.features = 500)"
   ]
  },
  {
   "cell_type": "code",
   "execution_count": null,
   "id": "e5f1a5a7",
   "metadata": {},
   "outputs": [],
   "source": [
    "# Remove cells that contain more than 10000 RNA count and \n",
    "# that have more that 20 percent of reads that are mitochondrial\n",
    "Young <- subset(Young, subset = nCount_RNA  <10000 & percent.mito < .2)"
   ]
  },
  {
   "cell_type": "code",
   "execution_count": null,
   "id": "3263f902",
   "metadata": {},
   "outputs": [],
   "source": [
    "# Normalizing, Finding Variable Features, Scaling Data and Find PCA of seurat Object\n",
    "Young <- Young %>% \n",
    "  Seurat::NormalizeData(verbose = FALSE) %>%\n",
    "  FindVariableFeatures(selection.method = \"vst\", nfeatures = 15000) %>% \n",
    "  ScaleData(verbose = FALSE) %>% \n",
    "  RunPCA(pc.genes = Young@var.genes, npcs = 20, verbose = FALSE)"
   ]
  },
  {
   "cell_type": "code",
   "execution_count": null,
   "id": "26fbb4ad",
   "metadata": {},
   "outputs": [],
   "source": [
    "# Generating Harmony PCA from PCA subsequent PCA generated from normalized data\n",
    "Young <- Young %>% \n",
    "  RunHarmony(\"orig.ident\", plot_convergence = TRUE)"
   ]
  },
  {
   "cell_type": "code",
   "execution_count": null,
   "id": "70aef1b9",
   "metadata": {},
   "outputs": [],
   "source": [
    "#Elbowplot to visualize optimal harmony components to utilize for UMAP\n",
    "ElbowPlot(Young, reduction = \"harmony\")"
   ]
  },
  {
   "cell_type": "code",
   "execution_count": null,
   "id": "6595c226",
   "metadata": {},
   "outputs": [],
   "source": [
    "# Dimensionally reduce harmony PCA (UMAP), \n",
    "# Construct KNN using harmony PCA\n",
    "# Find Clusters at low granular level\n",
    "Young <- Young %>% \n",
    "  RunUMAP(reduction = \"harmony\", dims = 1:20, min_dist=.001) %>% \n",
    "  FindNeighbors(reduction = \"harmony\", dims = 1:20) %>% \n",
    "  FindClusters(resolution = 0.1) %>% \n",
    "  identity()"
   ]
  },
  {
   "cell_type": "code",
   "execution_count": null,
   "id": "b38840f1",
   "metadata": {},
   "outputs": [],
   "source": [
    "#Generate UMAP with resolution 0.1 as idents and save as PDF\n",
    "pdf(\"Young_UMAP.pdf\", width=10, height=10, useDingbats = FALSE)\n",
    "DimPlot(Young,cols = brewer.pal(7,\"Set3\"), label=T) + \n",
    "theme_void() + \n",
    "theme(legend.position = \"none\") +\n",
    "ggtitle(\"\")\n",
    "dev.off()"
   ]
  },
  {
   "cell_type": "code",
   "execution_count": null,
   "id": "8127bac8",
   "metadata": {},
   "outputs": [],
   "source": [
    "#Find CellType Markers that are expressed in at least 50% of the cluster and a Log2FC of .5 or greater\n",
    "Young_Markers <- FindAllMarkers(Young, only.pos=TRUE, min.pct=0.50, logfc.threshold=0.50)\n",
    "Young_Markers <- subset(Young_Markers, subset=p_val_adj<0.05)\n",
    "YoungTop5Markers <- Young_Markers %>% group_by(cluster) %>% top_n(n=5, wt=avg_log2FC)\n",
    "YoungTop5MarkersUnique <- unique(YoungTop5Markers$gene)"
   ]
  },
  {
   "cell_type": "code",
   "execution_count": null,
   "id": "b079a7d7",
   "metadata": {},
   "outputs": [],
   "source": [
    "#Heatmap of top5 differentially expressed markers for each Cell type isolated\n",
    "DoHeatmap(subset(Young, downsample = 100), features = YoungTop5MarkersUnique,  size = 3) + \n",
    "scale_fill_gradient2(low=\"white\",mid=\"white\",high=\"red\")\n"
   ]
  },
  {
   "cell_type": "code",
   "execution_count": null,
   "id": "71d3a764",
   "metadata": {},
   "outputs": [],
   "source": [
    "# Label Cell Clusters for appropriate Cell Type based on differentially expressed markers\n",
    "Idents(Young) <- Young$`RNA_snn_res.0.1`\n",
    "Young <- RenameIdents(Young, \"0\"=\"Mac\")\n",
    "Young <- RenameIdents(Young, \"1\"=\"CF\")\n",
    "Young <- RenameIdents(Young, \"2\"=\"CM\")\n",
    "Young <- RenameIdents(Young, \"3\"=\"Mural\")\n",
    "Young <- RenameIdents(Young, \"4\"=\"EC\")\n",
    "Young <- RenameIdents(Young, \"5\"='EpiC')\n",
    "Young$CellType <- Idents(Young)"
   ]
  },
  {
   "cell_type": "code",
   "execution_count": null,
   "id": "cd3076ea",
   "metadata": {},
   "outputs": [],
   "source": [
    "#Generate UMAP with Celltype as idents and save as PDF\n",
    "pdf(\"Young_UMAP_Celltyoe.pdf\", width=10, height=10, useDingbats = FALSE)\n",
    "DimPlot(Young,cols = brewer.pal(7,\"Set3\"), label=T) + \n",
    "theme_void() + \n",
    "theme(legend.position = \"none\") +\n",
    "ggtitle(\"\")\n",
    "dev.off()"
   ]
  },
  {
   "cell_type": "code",
   "execution_count": null,
   "id": "48cb695d",
   "metadata": {},
   "outputs": [],
   "source": [
    "library(dplyr)\n",
    "#After Cluster labeling\n",
    "#Find CellType Markers that are expressed in at least 50% of the cluster and a Log2FC of .5 or greater\n",
    "Young_Markers <- FindAllMarkers(Young, only.pos=TRUE, min.pct=0.50, logfc.threshold=0.50)\n",
    "Young_Markers <- subset(Young_Markers, subset=p_val_adj <.05)\n",
    "YoungTop5Markers <- Young_Markers %>% group_by(cluster) %>% top_n(n=5, wt=avg_log2FC)\n",
    "YoungTop5MarkersUnique <- unique(YoungTop5Markers$gene)\n",
    "write.table(Young_Markers, \"Young_Markers.txt\", sep=\"\\t\")"
   ]
  },
  {
   "cell_type": "code",
   "execution_count": null,
   "id": "b883429b",
   "metadata": {},
   "outputs": [],
   "source": [
    "#After Cluster Labeling\n",
    "#Heatmap of top5 differentially expressed markers for each Cell type isolated\n",
    "DoHeatmap(subset(Young, downsample = 100), features = YoungTop5MarkersUnique,  size = 3) + \n",
    "scale_fill_gradient2(low=\"white\",mid=\"white\",high=\"grey\")\n"
   ]
  },
  {
   "cell_type": "code",
   "execution_count": null,
   "id": "ce2658c9",
   "metadata": {},
   "outputs": [],
   "source": [
    "#Generate Heatmap for top 5 celltype markers\n",
    "pdf(\"Young_Marker_heatmap.pdf\", width=5, height=5)\n",
    "DoHeatmap(subset(Young, downsample = 100), \n",
    "          group.colors = brewer.pal(11,\"Set3\"),\n",
    "          features = YoungTop5MarkersUnique,  \n",
    "          size = 3) + \n",
    "scale_fill_gradient2(low=\"white\",mid=\"white\",high=\"grey\")\n",
    "dev.off()"
   ]
  },
  {
   "cell_type": "code",
   "execution_count": null,
   "id": "484867ef",
   "metadata": {},
   "outputs": [],
   "source": [
    "#Extract numbers of celltype separated by Experiment\n",
    "Counttable <- data.frame(table(Young$CellType, Young$Experiment))\n",
    "write.csv(Counttable, \"Young_Composition_table_Experiment.csv\")\n",
    "#Generate Cell Composition stack barplot\n",
    "pdf(\"Young_Composition_Experiment.pdf\", width=5, height=5)\n",
    "ggplot(Counttable, aes(fill=Var1, y=Freq, x=Var2)) + \n",
    "    scale_fill_brewer(palette=\"Set3\") + \n",
    "    geom_bar(position=\"fill\", stat=\"identity\") +\n",
    "    theme_classic(base_size = 20) +\n",
    "    xlab(\"Samples\") + \n",
    "    ylab(\"Percentage\") +   \n",
    "    theme(legend.title=element_blank()) +\n",
    "    RotatedAxis()\n",
    "dev.off()"
   ]
  },
  {
   "cell_type": "code",
   "execution_count": null,
   "id": "5ed978f7",
   "metadata": {},
   "outputs": [],
   "source": [
    "#Extract numbers of celltype separated by Sample\n",
    "Counttable <- data.frame(table(Young$CellType, Young$orig.ident))\n",
    "write.csv(Counttable, \"Young_Composition_table_Sample.csv\")\n",
    "#Generate Cell Composition stack barplot\n",
    "pdf(\"Young_Composition.pdf\", width=5, height=5)\n",
    "ggplot(Counttable, aes(fill=Var1, y=Freq, x=Var2)) + \n",
    "    scale_fill_brewer(palette=\"Set3\") + \n",
    "    geom_bar(position=\"fill\", stat=\"identity\") +\n",
    "    theme_classic(base_size = 20) +\n",
    "    xlab(\"Samples\") + \n",
    "    ylab(\"Percentage\") +   \n",
    "    theme(legend.title=element_blank()) +\n",
    "    RotatedAxis()\n",
    "dev.off()"
   ]
  },
  {
   "cell_type": "code",
   "execution_count": null,
   "id": "34cb86e5",
   "metadata": {},
   "outputs": [],
   "source": [
    "#Subset Cardiomyocytes from \"Young\" object for Cell State Analysis\n",
    "CMHarmony <- subset(Young, idents=\"CM\")"
   ]
  },
  {
   "cell_type": "code",
   "execution_count": null,
   "id": "8df673a7",
   "metadata": {},
   "outputs": [],
   "source": [
    "# Normalizing, Finding Variable Features, Scaling Data and Find PCA of Cardiomyocytes\n",
    "CMHarmony <- CMHarmony %>% \n",
    "  FindVariableFeatures(selection.method = \"vst\", nfeatures = 15000) %>% \n",
    "  ScaleData(verbose = FALSE) %>% \n",
    "  RunPCA(pc.genes = Young@var.genes, npcs = 20, verbose = FALSE)\n"
   ]
  },
  {
   "cell_type": "code",
   "execution_count": null,
   "id": "f057a48f",
   "metadata": {},
   "outputs": [],
   "source": [
    "# Generating Harmony PCA from PCA subsequent PCA generated from normalized data\n",
    "CMHarmony <- CMHarmony %>% \n",
    "  RunHarmony(\"orig.ident\", plot_convergence = TRUE)"
   ]
  },
  {
   "cell_type": "code",
   "execution_count": null,
   "id": "487a08f5",
   "metadata": {},
   "outputs": [],
   "source": [
    "#Elbowplot to visualize optimal harmony components to utilize for UMAP\n",
    "ElbowPlot(CMHarmony, reduction = \"harmony\")"
   ]
  },
  {
   "cell_type": "code",
   "execution_count": null,
   "id": "aec2ed5d",
   "metadata": {},
   "outputs": [],
   "source": [
    "# Dimensionally reduce harmony PCA (UMAP), \n",
    "# Construct KNN using harmony PCA\n",
    "# Find Clusters at low granular level\n",
    "CMHarmony <- CMHarmony %>% \n",
    "  RunUMAP(reduction = \"harmony\", dims = 1:10) %>% \n",
    "  FindNeighbors(reduction = \"harmony\", dims = 1:10) %>% \n",
    "  FindClusters(resolution = 0.2) %>% \n",
    "  identity()"
   ]
  },
  {
   "cell_type": "code",
   "execution_count": null,
   "id": "95814f7f",
   "metadata": {},
   "outputs": [],
   "source": [
    "#Dimplot of Cardimyocytes cell states at low resolution\n",
    "DimPlot(CMHarmony, group.by=\"RNA_snn_res.0.1\", label=T)"
   ]
  },
  {
   "cell_type": "code",
   "execution_count": null,
   "id": "e6de3511",
   "metadata": {},
   "outputs": [],
   "source": [
    "#Find Cardiomyocyte cell state Markers that are expressed \n",
    "#in at least 50% of the cluster and a Log2FC of .5 or greater\n",
    "library(dplyr)\n",
    "Idents(CMHarmony) <- CMHarmony$`RNA_snn_res.0.1`\n",
    "CMHarmony_Markers <- FindAllMarkers(CMHarmony, only.pos=TRUE, min.pct=0.25, logfc.threshold=0.25)\n",
    "CMHarmony_Markers <- subset(CMHarmony_Markers, subset=p_val_adj <.05)\n",
    "CMHarmony_Markers <- CMHarmony_Markers[!grepl(\"mt-\", CMHarmony_Markers$gene),]\n",
    "CMHarmony_Markers <- CMHarmony_Markers[!grepl(\"-\", CMHarmony_Markers$gene),]\n",
    "CMHarmony_Markers <- CMHarmony_Markers[!grepl(\"Gm\", CMHarmony_Markers$gene),]\n",
    "CMHarmonyTop5Markers <- CMHarmony_Markers %>% group_by(cluster) %>% top_n(n=5, wt=avg_log2FC)\n",
    "CMHarmonyTop5MarkersUnique <- unique(CMHarmonyTop5Markers$gene)"
   ]
  },
  {
   "cell_type": "code",
   "execution_count": null,
   "id": "6908ce6a",
   "metadata": {},
   "outputs": [],
   "source": [
    "#Heatmap of top5 differentially expressed markers for each CM Cell state isolated\n",
    "DoHeatmap(subset(CMHarmony, downsample = 100), features = CMHarmonyTop5MarkersUnique,  size = 3) + \n",
    "scale_fill_gradient2(low=\"white\",mid=\"white\",high=\"grey\")"
   ]
  },
  {
   "cell_type": "code",
   "execution_count": null,
   "id": "7aa19954",
   "metadata": {},
   "outputs": [],
   "source": [
    "#Labeling of CM Cell states \n",
    "Idents(CMHarmony) <- CMHarmony$`RNA_snn_res.0.1`\n",
    "CMHarmony <- RenameIdents(CMHarmony, \"2\"=\"CM A\")\n",
    "CMHarmony <- RenameIdents(CMHarmony, \"0\"=\"CM A\")\n",
    "CMHarmony <- RenameIdents(CMHarmony, \"1\"=\"CM B\")\n",
    "CMHarmony <- RenameIdents(CMHarmony, \"4\"=\"CM C\")\n",
    "CMHarmony <- RenameIdents(CMHarmony, \"5\"=\"CM D\")\n",
    "CMHarmony <- RenameIdents(CMHarmony, \"3\"=\"CM G2M\")\n",
    "CMHarmony$Idents <- Idents(CMHarmony)\n",
    "CMHarmony$Idents <- factor(CMHarmony$Idents, levels=c(\"CM A\",\"CM B\",\"CM C\",\"CM D\",\"CM G2M\"))"
   ]
  },
  {
   "cell_type": "code",
   "execution_count": null,
   "id": "ce279b9c",
   "metadata": {},
   "outputs": [],
   "source": [
    "#Generate UMAP of Cardiomyocyte cell states\n",
    "DimPlot(CMHarmony, label=T,label.size = 10) +\n",
    "theme(plot.title = element_text(hjust = 0.5,face = \"bold\")) +\n",
    "theme(legend.position = \"none\") +\n",
    "ggtitle(\"Cardiomyocyte Cell State\") +\n",
    "theme(\n",
    "  axis.text.x = element_blank(),\n",
    "  axis.text.y = element_blank(),\n",
    "axis.title.x = element_text(face=\"bold\"),\n",
    "axis.title.y = element_text(face=\"bold\"),\n",
    "  axis.ticks = element_blank(),\n",
    "  axis.line.y = element_line(size = 1.2),\n",
    "  axis.line.x = element_line(size = 1.2)) +\n",
    "xlab(\"UMAP1\") +\n",
    "ylab(\"UMAP2\")"
   ]
  },
  {
   "cell_type": "code",
   "execution_count": null,
   "id": "40bb0ee0",
   "metadata": {},
   "outputs": [],
   "source": [
    "#Find DE Markers for each Cell state\n",
    "library(dplyr)\n",
    "Idents(CMHarmony) <- CMHarmony$Idents\n",
    "CMHarmony_Markers <- FindAllMarkers(CMHarmony, only.pos=TRUE, min.pct=0.25, logfc.threshold=0.25)\n",
    "CMHarmony_Markers <- subset(CMHarmony_Markers, subset=p_val_adj <.05)\n",
    "CMHarmony_Markers <- CMHarmony_Markers[!grepl(\"mt-\", CMHarmony_Markers$gene),]\n",
    "CMHarmony_Markers <- CMHarmony_Markers[!grepl(\"-\", CMHarmony_Markers$gene),]\n",
    "CMHarmony_Markers <- CMHarmony_Markers[!grepl(\"Gm\", CMHarmony_Markers$gene),]\n",
    "write.table(CMHarmony_Markers, \"CMHarmony_Markers.txt\", sep=\"\\t\")\n",
    "CMHarmonyTop5Markers <- CMHarmony_Markers %>% group_by(cluster) %>% top_n(n=5, wt=avg_log2FC)\n",
    "CMHarmonyTop5MarkersUnique <- unique(CMHarmonyTop5Markers$gene)"
   ]
  },
  {
   "cell_type": "code",
   "execution_count": null,
   "id": "967dab33",
   "metadata": {},
   "outputs": [],
   "source": [
    "#Generate Heatmap of Cardiomyocyte Cell State Markers\n",
    "pdf(\"CMHarmony_Marker_heatmap.pdf\", width=5, height=5)\n",
    "DoHeatmap(subset(CMHarmony, downsample = 100), features = CMHarmonyTop5MarkersUnique,  size = 3) + \n",
    "scale_fill_gradient2(low=\"white\",mid=\"white\",high=\"grey\")\n",
    "dev.off()"
   ]
  },
  {
   "cell_type": "code",
   "execution_count": null,
   "id": "1f3ae303",
   "metadata": {},
   "outputs": [],
   "source": [
    "#Extract Cell Count of Cardiomyocytes by Cell State and Experimental Design\n",
    "Counttable <- data.frame(table(CMHarmony$Idents, CMHarmony$Experiment))\n",
    "write.csv(Counttable, \"CMHarmony_Composition_Experiment_table.csv\")\n",
    "#Generate Cell Composition Stack Barplot of Cardiomyocyte cell state\n",
    "pdf(\"CMHarmony_Composition_Experiment.pdf\", width=6, height=6)\n",
    "ggplot(Counttable, aes(fill=Var1, y=Freq, x=Var2)) + \n",
    "    scale_fill_brewer(palette=\"Set3\") + \n",
    "    geom_bar(position=\"fill\", stat=\"identity\") +\n",
    "    theme_classic(base_size = 20) +\n",
    "    xlab(\"Samples\") + \n",
    "    ylab(\"Percentage\") +   \n",
    "    theme(legend.title=element_blank()) +\n",
    "    RotatedAxis()\n",
    "dev.off()"
   ]
  },
  {
   "cell_type": "code",
   "execution_count": null,
   "id": "64d122fd",
   "metadata": {},
   "outputs": [],
   "source": [
    "#Extract Cell Count of Cardiomyocytes by Cell State and Sample\n",
    "Counttable <- data.frame(table(CMHarmony$Idents, CMHarmony$orig.ident))\n",
    "write.csv(Counttable, \"CMHarmony_Composition_Sample_table.csv\")\n",
    "#Generate Cell Composition Stack Barplot of Cardiomyocyte cell state\n",
    "pdf(\"CMHarmony_Composition_Sample.pdf\", width=6, height=6)\n",
    "ggplot(Counttable, aes(fill=Var1, y=Freq, x=Var2)) + \n",
    "    scale_fill_brewer(palette=\"Set3\") + \n",
    "    geom_bar(position=\"fill\", stat=\"identity\") +\n",
    "    theme_classic(base_size = 20) +\n",
    "    xlab(\"Samples\") + \n",
    "    ylab(\"Percentage\") +   \n",
    "    theme(legend.title=element_blank()) +\n",
    "    RotatedAxis()\n",
    "dev.off()"
   ]
  },
  {
   "cell_type": "code",
   "execution_count": null,
   "id": "9ce99d3d",
   "metadata": {},
   "outputs": [],
   "source": [
    "#Extract Cell Count of Cardiomyocytes B & G2M by Cell State and Sample\n",
    "Counttable <- data.frame(table(CMHarmony2$Idents, CMHarmony2$orig.ident))\n",
    "#Generate Cell Composition Stack Barplot of Cardiomyocyte cell state\n",
    "pdf(\"CMHarmony2_Composition_Sample.pdf\", width=6, height=6)\n",
    "ggplot(Counttable, aes(fill=Var1, y=Freq, x=Var2)) + \n",
    "    scale_fill_brewer(palette=\"Set3\") + \n",
    "    geom_bar(position=\"fill\", stat=\"identity\") +\n",
    "    theme_classic(base_size = 20) +\n",
    "    xlab(\"Samples\") + \n",
    "    ylab(\"Percentage\") +   \n",
    "    theme(legend.title=element_blank()) +\n",
    "    RotatedAxis()\n",
    "dev.off()"
   ]
  },
  {
   "cell_type": "code",
   "execution_count": null,
   "id": "1dca91d5",
   "metadata": {},
   "outputs": [],
   "source": [
    "#Subset CM B and CM G2M for further analysis\n",
    "DefaultAssay(CMHarmony) <- \"RNA\"\n",
    "CMHarmony2 <- subset(CMHarmony, idents=c(\"CM B\",\"CM G2M\"))"
   ]
  },
  {
   "cell_type": "code",
   "execution_count": null,
   "id": "bee18a1e",
   "metadata": {},
   "outputs": [],
   "source": [
    "#Rescale and find PCA for CM B and CM G2M (CMHarmony2)\n",
    "CMHarmony2 <- CMHarmony2 %>%\n",
    "  FindVariableFeatures(selection.method = \"vst\", nfeatures = 15000) %>% \n",
    "  ScaleData(verbose = FALSE) %>% \n",
    "  RunPCA(pc.genes = Young@var.genes, npcs = 20, verbose = FALSE)"
   ]
  },
  {
   "cell_type": "code",
   "execution_count": null,
   "id": "c95e2bab",
   "metadata": {},
   "outputs": [],
   "source": [
    "# Generating Harmony PCA from PCA subsequent PCA generated from normalized data\n",
    "CMHarmony2 <- CMHarmony2 %>% \n",
    "  RunHarmony(\"orig.ident\", plot_convergence = TRUE)"
   ]
  },
  {
   "cell_type": "code",
   "execution_count": null,
   "id": "1223cfd0",
   "metadata": {},
   "outputs": [],
   "source": [
    "ElboePlot(CMHarmony2, reduction=\"harmony\")"
   ]
  },
  {
   "cell_type": "code",
   "execution_count": null,
   "id": "f0fa5c35",
   "metadata": {},
   "outputs": [],
   "source": [
    "# Dimensionally reduce harmony PCA (UMAP), \n",
    "# Construct KNN using harmony PCA\n",
    "# Find Clusters at low granular level\n",
    "CMHarmony2 <- CMHarmony2 %>% \n",
    "  RunUMAP(reduction = \"harmony\", dims = 1:10) %>% \n",
    "  FindNeighbors(reduction = \"harmony\", dims = 1:10) %>% \n",
    "  FindClusters(resolution = .1) %>% \n",
    "  identity()"
   ]
  },
  {
   "cell_type": "code",
   "execution_count": null,
   "id": "feb66420",
   "metadata": {},
   "outputs": [],
   "source": [
    "#Set Identity and reorder\n",
    "CMHarmony2$Idents <- Idents(CMHarmony2)\n",
    "CMHarmony2$Idents <- factor(CMHarmony2$Idents, level=c(\"1\",\"2\",\"3\",\"4\",\"5\"))"
   ]
  },
  {
   "cell_type": "code",
   "execution_count": null,
   "id": "9b3055fb",
   "metadata": {},
   "outputs": [],
   "source": [
    "#Find Cardiomyocyte cell state Markers that are expressed \n",
    "#in at least 50% of the cluster and a Log2FC of .5 or greater\n",
    "library(dplyr)\n",
    "Idents(CMHarmony2) <- CMHarmony2$Idents\n",
    "CMHarmony2_Markers <- FindAllMarkers(CMHarmony2, only.pos=TRUE, min.pct=0.25, logfc.threshold=0.5)\n",
    "CMHarmony2_Markers <- subset(CMHarmony2_Markers, subset=p_val_adj <.05)\n",
    "CMHarmony2_Markers <- CMHarmony2_Markers[!grepl(\"mt-\", CMHarmony2_Markers$gene),]\n",
    "CMHarmony2_Markers <- CMHarmony2_Markers[!grepl(\"-\", CMHarmony2_Markers$gene),]\n",
    "CMHarmony2_Markers <- CMHarmony2_Markers[!grepl(\"Rik\", CMHarmony2_Markers$gene),]\n",
    "CMHarmony2Top5Markers <- CMHarmony2_Markers %>% group_by(cluster) %>% top_n(n=5, wt=avg_log2FC)\n",
    "CMHarmony2Top5MarkersUnique <- unique(CMHarmony2Top5Markers$gene)\n",
    "write.table(CMHarmony2_Markers, \"CMHarmony2_Markers.txt\", sep=\"\\t\")"
   ]
  },
  {
   "cell_type": "code",
   "execution_count": null,
   "id": "8755f63d",
   "metadata": {},
   "outputs": [],
   "source": [
    "#Heatmap of top5 differentially expressed markers for each CM B & G2M Substates\n",
    "DoHeatmap(subset(CMHarmony2, downsample = 100), features = CMHarmony2Top5MarkersUnique,  size = 3) + \n",
    "scale_fill_gradient2(low=\"white\",mid=\"white\",high=\"grey\")"
   ]
  },
  {
   "cell_type": "markdown",
   "id": "e363fd5e",
   "metadata": {},
   "source": [
    "# Round Score Analysis"
   ]
  },
  {
   "cell_type": "code",
   "execution_count": null,
   "id": "d9b8dae3",
   "metadata": {},
   "outputs": [],
   "source": [
    "#Read in Rounding Target List\n",
    "RoundingTargets <- read.table(\"RoundingTargets.txt\", sep=\"\\t\")"
   ]
  },
  {
   "cell_type": "code",
   "execution_count": null,
   "id": "0f83d613",
   "metadata": {},
   "outputs": [],
   "source": [
    "#Add module Score to Seurat CM Objects using Rounding Target list\n",
    "DefaultAssay(CMHarmony) <- \"RNA\"\n",
    "CMHarmony <- AddModuleScore(CMHarmony, features = list(RoundingTargets$V1), name = \"Rounding_Score\")\n",
    "\n",
    "DefaultAssay(CMHarmony) <- \"RNA\"\n",
    "CMHarmony2 <- AddModuleScore(CMHarmony2, features = list(RoundingTargets$V1), name = \"Rounding_Score\")"
   ]
  },
  {
   "cell_type": "code",
   "execution_count": null,
   "id": "b94b0be8",
   "metadata": {},
   "outputs": [],
   "source": [
    "#UMAP visualization of Rounding score on CM B & G2M substate\n",
    "FeaturePlot(CMHarmony, \n",
    "            features = \"Rounding_Score1\", min.cutoff=\"q9\") + \n",
    "theme(plot.title = element_text(hjust = 0.5,face = \"bold\")) +\n",
    "theme(legend.position = \"right\") +\n",
    "ggtitle(\"Rounding Score\") +\n",
    "theme(\n",
    "  axis.text.x = element_blank(),\n",
    "  axis.text.y = element_blank(),\n",
    "axis.title.x = element_text(face=\"bold\"),\n",
    "axis.title.y = element_text(face=\"bold\"),\n",
    "  axis.ticks = element_blank(),\n",
    "  axis.line.y = element_line(size = 1),\n",
    "  axis.line.x = element_line(size = 1)) +\n",
    "xlab(\"UMAP1\") +\n",
    "ylab(\"UMAP2\") + scale_colour_gradientn(colours = brewer.pal(n = 11, name = \"YlOrRd\"))"
   ]
  },
  {
   "cell_type": "code",
   "execution_count": null,
   "id": "ea4a0a5d",
   "metadata": {},
   "outputs": [],
   "source": [
    "#UMAP visualization of Rounding score on CM B & G2M substate\n",
    "FeaturePlot(CMHarmony2, \n",
    "            features = \"Rounding_Score1\", min.cutoff=\"q9\") + \n",
    "theme(plot.title = element_text(hjust = 0.5,face = \"bold\")) +\n",
    "theme(legend.position = \"right\") +\n",
    "ggtitle(\"Rounding Score\") +\n",
    "theme(\n",
    "  axis.text.x = element_blank(),\n",
    "  axis.text.y = element_blank(),\n",
    "axis.title.x = element_text(face=\"bold\"),\n",
    "axis.title.y = element_text(face=\"bold\"),\n",
    "  axis.ticks = element_blank(),\n",
    "  axis.line.y = element_line(size = 1),\n",
    "  axis.line.x = element_line(size = 1)) +\n",
    "xlab(\"UMAP1\") +\n",
    "ylab(\"UMAP2\") + scale_colour_gradientn(colours = brewer.pal(n = 11, name = \"YlOrRd\"))"
   ]
  },
  {
   "cell_type": "markdown",
   "id": "b3e164cf",
   "metadata": {},
   "source": [
    "# P2 Scoring"
   ]
  },
  {
   "cell_type": "code",
   "execution_count": null,
   "id": "1591cf69",
   "metadata": {},
   "outputs": [],
   "source": [
    "#Read in genelist for Differentially expressed gene between 4 weeks vs P2 Control Cadiomyocytes\n",
    "#Add modular scoring to CM object using genes that are upregulated in P2 vs weeks\n",
    "CMControlDEG <- read.table(\"WithOlsenSingleCell/CMControlDEG.txt\", sep=\"\\t\")\n",
    "CMControlDEGDown <- subset(CMControlDEG, subset=avg_log2FC < 0)\n",
    "CMHarmony <- AddModuleScore(CMHarmony, features = list(rownames(CMControlDEGDown)),  name=\"P2_Score\")"
   ]
  },
  {
   "cell_type": "code",
   "execution_count": null,
   "id": "bbd07714",
   "metadata": {},
   "outputs": [],
   "source": [
    "#UMAP visualization of P2 score on CM B & G2M substate\n",
    "FeaturePlot(CMHarmony, \n",
    "            features = \"P2_Score1\", min.cutoff=\"q9\") +\n",
    "theme(plot.title = element_text(hjust = 0.5,face = \"bold\")) +\n",
    "theme(legend.position = \"right\") +\n",
    "ggtitle(\"Rounding Score\") +\n",
    "theme(\n",
    "  axis.text.x = element_blank(),\n",
    "  axis.text.y = element_blank(),\n",
    "axis.title.x = element_text(face=\"bold\"),\n",
    "axis.title.y = element_text(face=\"bold\"),\n",
    "  axis.ticks = element_blank(),\n",
    "  axis.line.y = element_line(size = 1),\n",
    "  axis.line.x = element_line(size = 1)) +\n",
    "xlab(\"UMAP1\") +\n",
    "ylab(\"UMAP2\") + scale_colour_gradientn(colours = brewer.pal(n = 11, name = \"YlOrRd\"))"
   ]
  },
  {
   "cell_type": "markdown",
   "id": "20344f12",
   "metadata": {},
   "source": [
    "# Monocle2 Analysis"
   ]
  },
  {
   "cell_type": "code",
   "execution_count": null,
   "id": "194f4963",
   "metadata": {},
   "outputs": [],
   "source": [
    "DefaultAssay(CMHarmony2) <- 'RNA'"
   ]
  },
  {
   "cell_type": "code",
   "execution_count": null,
   "id": "66c41713",
   "metadata": {},
   "outputs": [],
   "source": [
    "#Extract Gene Matrix, Gene Names, and meta data from CM B & G2M substates\n",
    "Data <- as.matrix(GetAssayData(CMHarmony2))\n",
    "Genes <- data.frame(rownames(CMHarmony2))\n",
    "rownames(Genes) <- Genes[,1]\n",
    "colnames(Genes)[1] <- \"gene_short_name\"\n",
    "Meta <- data.frame(CMHarmony2@meta.data)"
   ]
  },
  {
   "cell_type": "code",
   "execution_count": null,
   "id": "46613011",
   "metadata": {},
   "outputs": [],
   "source": [
    "#Create Monocle Object\n",
    "CMHarmony2Monocle <- newCellDataSet(as.matrix(Data), \n",
    "                          featureData = new(\"AnnotatedDataFrame\", data=Genes), \n",
    "                          phenoData = new(\"AnnotatedDataFrame\", data=Meta))"
   ]
  },
  {
   "cell_type": "code",
   "execution_count": null,
   "id": "90e661ce",
   "metadata": {},
   "outputs": [],
   "source": [
    "#Find Size Factor, Ordering Filters, and Reduce Dimensions using DDTree\n",
    "#Order Cells along trajectory\n",
    "CMHarmony2Monocle <- estimateSizeFactors(CMHarmony2Monocle)\n",
    "CMHarmony2Monocle <- setOrderingFilter(Monocle, CMHarmony2_Markers$gene)\n",
    "CMHarmony2Monocle <- reduceDimension(Monocle, max_components = 2, method=\"DDRTree\")\n",
    "CMHarmony2Monocle <- orderCells(Monocle)"
   ]
  },
  {
   "cell_type": "code",
   "execution_count": null,
   "id": "93b09e1e",
   "metadata": {},
   "outputs": [],
   "source": [
    "MonocleName <- c(\"CMHarmony2\")\n",
    "MonocleList <- list(\"CMHarmony2\"=Monocle)\n",
    "for(i in MonocleName)\n",
    "{\n",
    "  jpeg(paste(i,\"_Cell_Trajectory_State.jpg\",sep=\"\"),width=1000,height=700,res=200)\n",
    "  g <- plot_cell_trajectory(MonocleList[[i]],\n",
    "                            color_by=\"State\",\n",
    "                            show_state_number = F, \n",
    "                            show_branch_points = FALSE) + \n",
    "    scale_color_brewer(palette = \"Set3\")\n",
    "  print(g)\n",
    "  dev.off()\n",
    "}\n",
    "\n",
    "for(i in MonocleName)\n",
    "{\n",
    "  jpeg(paste(i,\"_Cell_Trajectory_Experiment.jpg\",sep=\"\"),width=1000,height=500,res=200)\n",
    "  g <- plot_cell_trajectory(MonocleList[[i]],\n",
    "                            color_by=\"Experiment\",\n",
    "                            show_branch_points = FALSE) + \n",
    "    theme_void()\n",
    "  print(g)\n",
    "  dev.off()\n",
    "}\n",
    "\n",
    "for(i in MonocleName)\n",
    "{\n",
    "  jpeg(paste(i,\"_Cell_Trajectory_Idents.jpg\",sep=\"\"),width=1000,height=500,res=200)\n",
    "  g <- plot_cell_trajectory(MonocleList[[i]], \n",
    "                            color_by=\"Idents2\",\n",
    "                            show_branch_points = TRUE) + \n",
    "    theme_void()\n",
    "  print(g)\n",
    "  dev.off()\n",
    "}\n",
    "for(i in MonocleName)\n",
    "{\n",
    "  jpeg(paste(i,\"_Cell_Trajectory_Idents_split.jpg\",sep=\"\"),width=4000,height=500,res=200)\n",
    "  g <- plot_cell_trajectory(MonocleList[[i]],\n",
    "                            color_by=\"Idents2\") + \n",
    "    facet_wrap(~Idents2, nrow=1) + theme_void()\n",
    "  print(g)\n",
    "  dev.off()\n",
    "}\n",
    "for(i in MonocleName)\n",
    "{\n",
    "  jpeg(paste(i,\"_Cell_Trajectory_Pseudotime.jpg\",sep=\"\"),width=1000,height=500,res=200)\n",
    "  g <- plot_cell_trajectory(MonocleList[[i]],\n",
    "                            color_by=\"Pseudotime\",\n",
    "                            show_branch_points = TRUE) + \n",
    "    theme_void()\n",
    "  print(g)\n",
    "  dev.off()\n",
    "}\n",
    "\n",
    "\n",
    "\n",
    "dev.off()\n",
    "\n",
    "Matrix <- data.frame(t(MonocleList[[i]]@reducedDimS))\n",
    "Idents <- data.frame(MonocleList[[i]]$Idents)\n",
    "Idents <- str(Idents)\n",
    "Matrix <- cbind(Matrix,Idents)\n",
    "colnames(Matrix)[1] <- \"Comp1\"\n",
    "colnames(Matrix)[2] <- \"Comp2\"\n",
    "colnames(Matrix)[3] <- \"Cluster\"\n",
    "\n",
    "for(i in MonocleName)\n",
    "{\n",
    "  Matrix <- data.frame(t(MonocleList[[i]]@reducedDimS))\n",
    "  CFIdents <- data.frame(MonocleList[[i]]$Idents)\n",
    "  Matrix <- cbind(Matrix,CFIdents)\n",
    "  colnames(Matrix)[1] <- \"Comp1\"\n",
    "  colnames(Matrix)[2] <- \"Comp2\"\n",
    "  colnames(Matrix)[3] <- \"Cluster\"\n",
    "  jpeg(paste(i,\"_RidgePlot.jpg\",sep=\"\"), width=1080, res=200)\n",
    "  g <- ggplot(Matrix, aes(x=Comp1, y=Cluster)) + \n",
    "    geom_density_ridges(aes(fill=Cluster)) + \n",
    "    theme_classic()\n",
    "  print(g)\n",
    "  dev.off()\n",
    "  rm(Matrix)\n",
    "  rm(CFIdents)\n",
    "}\n",
    "\n",
    "for(i in MonocleName)\n",
    "{\n",
    "  Matrix <- data.frame(t(MonocleList[[i]]@reducedDimS))\n",
    "  CFIdents <- data.frame(MonocleList[[i]]$Idents)\n",
    "  Matrix <- cbind(Matrix,CFIdents)\n",
    "  colnames(Matrix)[1] <- \"Comp1\"\n",
    "  colnames(Matrix)[2] <- \"Comp2\"\n",
    "  colnames(Matrix)[3] <- \"Cluster\"\n",
    "  jpeg(paste(i,\"_RidgePlot2.jpg\",sep=\"\"), width=1080, res=200)\n",
    "  g <- ggplot(Matrix, aes(x=Comp2, y=Cluster)) + \n",
    "    geom_density_ridges(aes(fill=Cluster)) + \n",
    "    theme_classic()\n",
    "  print(g)\n",
    "  dev.off()\n",
    "  rm(Matrix)\n",
    "  rm(CFIdents)\n",
    "}\n",
    "\n",
    "for(i in MonocleName)\n",
    "{\n",
    "  Matrix <- data.frame(t(MonocleList[[i]]@reducedDimS))\n",
    "  CFIdents <- data.frame(MonocleList[[i]]$Experiment)\n",
    "  Matrix <- cbind(Matrix,CFIdents)\n",
    "  colnames(Matrix)[1] <- \"Comp1\"\n",
    "  colnames(Matrix)[2] <- \"Comp2\"\n",
    "  colnames(Matrix)[3] <- \"Cluster\"\n",
    "  jpeg(paste(i,\"_RidgePlot_Experiment.jpg\",sep=\"\"), width=1080, res=200)\n",
    "  g <- ggplot(Matrix, aes(x=Comp1, y=Cluster)) + \n",
    "    geom_density_ridges(aes(fill=Cluster)) + \n",
    "    theme_classic()\n",
    "  print(g)\n",
    "  dev.off()\n",
    "  rm(Matrix)\n",
    "  rm(CFIdents)\n",
    "}\n",
    "\n",
    "for(i in MonocleName)\n",
    "{\n",
    "  Matrix <- data.frame(t(MonocleList[[i]]@reducedDimS))\n",
    "  CFIdents <- data.frame(MonocleList[[i]]$Experiment)\n",
    "  Matrix <- cbind(Matrix,CFIdents)\n",
    "  colnames(Matrix)[1] <- \"Comp1\"\n",
    "  colnames(Matrix)[2] <- \"Comp2\"\n",
    "  colnames(Matrix)[3] <- \"Cluster\"\n",
    "  jpeg(paste(i,\"_RidgePlot_Experiment2.jpg\",sep=\"\"), width=1080, res=200)\n",
    "  g <- ggplot(Matrix, aes(x=Comp2, y=Cluster)) + \n",
    "    geom_density_ridges(aes(fill=Cluster)) + \n",
    "    theme_classic()\n",
    "  print(g)\n",
    "  dev.off()\n",
    "  rm(Matrix)\n",
    "  rm(CFIdents)\n",
    "}\n",
    "gc()"
   ]
  }
 ],
 "metadata": {
  "kernelspec": {
   "display_name": "R",
   "language": "R",
   "name": "ir"
  },
  "language_info": {
   "codemirror_mode": "r",
   "file_extension": ".r",
   "mimetype": "text/x-r-source",
   "name": "R",
   "pygments_lexer": "r",
   "version": "4.4.0"
  }
 },
 "nbformat": 4,
 "nbformat_minor": 5
}
